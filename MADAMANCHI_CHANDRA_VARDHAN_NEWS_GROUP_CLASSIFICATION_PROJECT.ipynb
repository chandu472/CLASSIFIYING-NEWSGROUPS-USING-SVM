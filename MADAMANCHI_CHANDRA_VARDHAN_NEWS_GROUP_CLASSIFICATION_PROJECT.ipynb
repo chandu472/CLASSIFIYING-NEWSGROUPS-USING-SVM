{
  "nbformat": 4,
  "nbformat_minor": 0,
  "metadata": {
    "colab": {
      "provenance": [],
      "collapsed_sections": []
    },
    "kernelspec": {
      "name": "python3",
      "display_name": "Python 3"
    },
    "language_info": {
      "name": "python"
    },
    "accelerator": "TPU"
  },
  "cells": [
    {
      "cell_type": "markdown",
      "source": [
        "# CLASSIFICATION OF NEWS GROUP TOPICS USING SVM"
      ],
      "metadata": {
        "id": "PicwfBkQOHpI"
      }
    },
    {
      "cell_type": "markdown",
      "source": [
        "#### META INFORMATION\n",
        "\n",
        "The 20 newsgroups dataset comprises around 18000 newsgroups posts on 20 topics split in two subsets: one for training (or development) and the other one for testing (or for performance evaluation). The split between the train and test set is based upon a messages posted before and after a specific date.\n",
        "\n",
        "\n",
        "The Newsgroup and Document_id can be referenced against list.csv\n",
        "\n",
        "Organization\n",
        "\n",
        "Each newsgroup file in the bundle represents a single newsgroup.\n",
        "\n",
        "Each message in a file is the text of some newsgroup document that was posted to that newsgroup.\n",
        "\n",
        "This is a list of the 20 newsgroups:\n",
        "\n",
        "1.alt.atheism\n",
        "\n",
        "2 comp.graphics\n",
        "\n",
        "3.comp.os.ms-windows.misc\n",
        "\n",
        " 4.comp.sys.ibm.pc.hardware\n",
        "\n",
        " 5.comp.sys.mac.hardware\n",
        "\n",
        " 6.comp.windows.x\n",
        "\n",
        " 7.misc.forsale\n",
        "\n",
        " 8.rec.autos\n",
        "\n",
        " 9.rec.motorcycles\n",
        "\n",
        " 10.rec.sport.baseball\n",
        "\n",
        " 11.rec.sport.hockey\n",
        "\n",
        " 12.sci.crypt\n",
        "\n",
        " 13.sci.electronics\n",
        "\n",
        " 14.sci.med\n",
        "\n",
        " 15.sci.space\n",
        "\n",
        " 16.soc.religion.christian\n",
        "\n",
        " 17.talk.politics.guns\n",
        "\n",
        " 18.talk.politics.mideast\n",
        "\n",
        " 19.talk.politics.misc\n",
        "\n",
        " 20.talk.religion.misc"
      ],
      "metadata": {
        "id": "BvIc0kG8ORVM"
      }
    },
    {
      "cell_type": "code",
      "source": [
        "#fetching data from sklearn datasets\n",
        "from sklearn.datasets import fetch_20newsgroups"
      ],
      "metadata": {
        "id": "iCQzUCXCOPTg"
      },
      "execution_count": 1,
      "outputs": []
    },
    {
      "cell_type": "code",
      "source": [
        "newsgroups = fetch_20newsgroups()"
      ],
      "metadata": {
        "id": "HqNLRUoxS_qJ"
      },
      "execution_count": 2,
      "outputs": []
    },
    {
      "cell_type": "code",
      "source": [
        "from pprint import pprint\n",
        "pprint(list(newsgroups.target_names))"
      ],
      "metadata": {
        "colab": {
          "base_uri": "https://localhost:8080/"
        },
        "id": "dD4vPN_KQhMP",
        "outputId": "a9ace630-3a69-41a0-ca1a-10e088ff1d6c"
      },
      "execution_count": 3,
      "outputs": [
        {
          "output_type": "stream",
          "name": "stdout",
          "text": [
            "['alt.atheism',\n",
            " 'comp.graphics',\n",
            " 'comp.os.ms-windows.misc',\n",
            " 'comp.sys.ibm.pc.hardware',\n",
            " 'comp.sys.mac.hardware',\n",
            " 'comp.windows.x',\n",
            " 'misc.forsale',\n",
            " 'rec.autos',\n",
            " 'rec.motorcycles',\n",
            " 'rec.sport.baseball',\n",
            " 'rec.sport.hockey',\n",
            " 'sci.crypt',\n",
            " 'sci.electronics',\n",
            " 'sci.med',\n",
            " 'sci.space',\n",
            " 'soc.religion.christian',\n",
            " 'talk.politics.guns',\n",
            " 'talk.politics.mideast',\n",
            " 'talk.politics.misc',\n",
            " 'talk.religion.misc']\n"
          ]
        }
      ]
    },
    {
      "cell_type": "markdown",
      "source": [
        "CLASSIFICATION CAN BE EITHEIR BINARY OR MULTI CLASSIFICATION \n",
        "\n",
        "Binary Classification: Binary Classification can be done by choosing any two target values why fetching train and test dataset.\n",
        "\n",
        "MultiClass Classification: MultiClass Classification can be done by selecting all 20 target values for classification or more two values."
      ],
      "metadata": {
        "id": "Lx-6E5a-UiGy"
      }
    },
    {
      "cell_type": "markdown",
      "source": [
        "## BINARY CLASSIFICATION"
      ],
      "metadata": {
        "id": "DpmRlh5bXnFs"
      }
    },
    {
      "cell_type": "code",
      "source": [
        "categories= ['comp.windows.x','alt.atheism']\n",
        "\n",
        "newsgroups_train= fetch_20newsgroups(subset='train', categories= categories, random_state=42)\n",
        "newsgroups_test= fetch_20newsgroups(subset='test', categories=categories, random_state=42)\n",
        "\n",
        "#getting train and test data from newsgroup20 dataset"
      ],
      "metadata": {
        "id": "jc_7fX6HuNuz"
      },
      "execution_count": 4,
      "outputs": []
    },
    {
      "cell_type": "markdown",
      "source": [
        "#### Before building SVM MODEL for classifying we need to clean and analyze data by using NLP and NLP TOOL KIT.\n",
        "\n",
        "### Preprocessing of data is done using Feature extraction , Vectorization , lemmatization , Removing stopwords etc."
      ],
      "metadata": {
        "id": "yKarEU1AZlgu"
      }
    },
    {
      "cell_type": "code",
      "execution_count": 5,
      "metadata": {
        "id": "S0Wr11kSuGRl"
      },
      "outputs": [],
      "source": [
        "#importing nlp toolkit and required libraries\n",
        "import nltk \n",
        "from sklearn.feature_extraction.text import TfidfVectorizer\n",
        "from nltk.corpus import names\n",
        "from nltk.stem import WordNetLemmatizer"
      ]
    },
    {
      "cell_type": "code",
      "source": [
        "#Essential downloads\n",
        "nltk.download('names')\n",
        "nltk.download('stopwords')\n",
        "nltk.download('wordnet')\n",
        "nltk.download('omw-1.4')"
      ],
      "metadata": {
        "colab": {
          "base_uri": "https://localhost:8080/"
        },
        "id": "eL2uybRMaRQa",
        "outputId": "f61c439e-463d-47bd-b8c5-7d2c43032357"
      },
      "execution_count": 6,
      "outputs": [
        {
          "output_type": "stream",
          "name": "stderr",
          "text": [
            "[nltk_data] Downloading package names to /root/nltk_data...\n",
            "[nltk_data]   Unzipping corpora/names.zip.\n",
            "[nltk_data] Downloading package stopwords to /root/nltk_data...\n",
            "[nltk_data]   Unzipping corpora/stopwords.zip.\n",
            "[nltk_data] Downloading package wordnet to /root/nltk_data...\n",
            "[nltk_data] Downloading package omw-1.4 to /root/nltk_data...\n"
          ]
        },
        {
          "output_type": "execute_result",
          "data": {
            "text/plain": [
              "True"
            ]
          },
          "metadata": {},
          "execution_count": 6
        }
      ]
    },
    {
      "cell_type": "markdown",
      "source": [
        "#### Function for removing punctuation ,stopwords .\n",
        "#### Stopwords- These are commonly used words like the, and, but that don't contribute much to the meaning of a sentence"
      ],
      "metadata": {
        "id": "N0Zb7LVAds93"
      }
    },
    {
      "cell_type": "code",
      "source": [
        "all_names=set(names.words())\n",
        "\n",
        "\n",
        "lemmatizer=WordNetLemmatizer()\n",
        "\n",
        "def is_letter_only(word):\n",
        "    return word.isalpha()\n",
        "\n",
        "from nltk.corpus import stopwords\n",
        "stop_words= stopwords.words('english')\n"
      ],
      "metadata": {
        "id": "RFZuhb12uNll"
      },
      "execution_count": 7,
      "outputs": []
    },
    {
      "cell_type": "markdown",
      "source": [
        "#### Function for Tokenazation , stemming , lemmatizing data.\n",
        "####  Tokenization- Tokenizing is splitting some string or sentence into a list of words.\n",
        "#### Stemming- some portion of characters removed from the word."
      ],
      "metadata": {
        "id": "64JpHaOyeCPT"
      }
    },
    {
      "cell_type": "code",
      "source": [
        "def clean_text(docs):\n",
        "    docs_cleaned=[]\n",
        "    for doc in docs:\n",
        "        doc=doc.lower()\n",
        "        doc_cleaned=' '.join(lemmatizer.lemmatize(word) for word in doc.split()\n",
        "                            if is_letter_only(word) and word not in all_names and word not in stop_words)\n",
        "        docs_cleaned.append(doc_cleaned)\n",
        "    return docs_cleaned"
      ],
      "metadata": {
        "id": "ZR_N0fW0uNoI"
      },
      "execution_count": 8,
      "outputs": []
    },
    {
      "cell_type": "code",
      "source": [
        "#cleaning data by using above functions\n",
        "cleaned_train= clean_text(newsgroups_train.data)\n",
        "label_train= newsgroups_train.target"
      ],
      "metadata": {
        "id": "kjcWN5dtXtli"
      },
      "execution_count": 9,
      "outputs": []
    },
    {
      "cell_type": "code",
      "source": [
        "cleaned_test= clean_text(newsgroups_test.data)\n",
        "label_test= newsgroups_test.target"
      ],
      "metadata": {
        "id": "hbctBPnxuS0_"
      },
      "execution_count": 10,
      "outputs": []
    },
    {
      "cell_type": "code",
      "source": [
        "label_train"
      ],
      "metadata": {
        "colab": {
          "base_uri": "https://localhost:8080/"
        },
        "id": "jHdEPXwpWxl5",
        "outputId": "00d9f6ab-ce98-40fd-96b2-e8599b5ebf28"
      },
      "execution_count": 11,
      "outputs": [
        {
          "output_type": "execute_result",
          "data": {
            "text/plain": [
              "array([1, 0, 1, ..., 0, 1, 0])"
            ]
          },
          "metadata": {},
          "execution_count": 11
        }
      ]
    },
    {
      "cell_type": "code",
      "source": [
        "label_test"
      ],
      "metadata": {
        "colab": {
          "base_uri": "https://localhost:8080/"
        },
        "id": "uDV2kYs2f2PL",
        "outputId": "97a661d1-f1e0-4345-df5e-f513a19b5868"
      },
      "execution_count": 12,
      "outputs": [
        {
          "output_type": "execute_result",
          "data": {
            "text/plain": [
              "array([0, 0, 0, 1, 0, 0, 1, 0, 1, 0, 0, 0, 0, 1, 0, 0, 1, 1, 1, 0, 0, 1,\n",
              "       0, 1, 1, 0, 1, 1, 0, 0, 0, 1, 1, 0, 0, 0, 1, 0, 1, 1, 0, 0, 1, 1,\n",
              "       1, 0, 1, 1, 0, 1, 1, 0, 1, 0, 1, 1, 1, 1, 1, 0, 1, 1, 1, 0, 1, 0,\n",
              "       1, 1, 0, 1, 1, 0, 1, 1, 0, 0, 0, 1, 1, 1, 1, 1, 0, 1, 1, 1, 0, 0,\n",
              "       0, 0, 1, 1, 0, 1, 0, 0, 0, 1, 1, 0, 1, 1, 0, 1, 1, 1, 0, 0, 1, 1,\n",
              "       0, 0, 0, 1, 1, 0, 1, 0, 1, 1, 0, 0, 0, 0, 1, 1, 1, 1, 1, 1, 1, 1,\n",
              "       0, 1, 0, 1, 0, 0, 1, 1, 0, 0, 0, 1, 0, 0, 1, 0, 0, 0, 1, 0, 0, 1,\n",
              "       1, 0, 1, 1, 0, 0, 1, 1, 1, 1, 0, 0, 0, 0, 0, 1, 1, 0, 0, 1, 1, 1,\n",
              "       1, 1, 1, 1, 1, 1, 0, 1, 1, 0, 1, 1, 0, 0, 1, 1, 1, 0, 1, 1, 0, 0,\n",
              "       1, 1, 1, 1, 0, 0, 1, 0, 1, 1, 0, 1, 1, 1, 0, 0, 0, 1, 0, 1, 1, 1,\n",
              "       1, 0, 1, 0, 0, 1, 1, 0, 0, 0, 0, 0, 0, 1, 1, 1, 1, 0, 1, 0, 1, 0,\n",
              "       0, 1, 1, 0, 1, 1, 1, 1, 1, 1, 0, 1, 1, 0, 1, 0, 0, 1, 0, 0, 0, 1,\n",
              "       0, 0, 1, 1, 1, 1, 0, 1, 1, 1, 0, 1, 1, 0, 0, 1, 0, 0, 0, 0, 1, 0,\n",
              "       0, 0, 0, 1, 1, 1, 0, 1, 1, 0, 0, 1, 0, 1, 0, 0, 0, 1, 1, 0, 1, 1,\n",
              "       1, 0, 1, 0, 1, 1, 0, 0, 1, 0, 1, 0, 1, 1, 1, 0, 0, 1, 0, 0, 0, 0,\n",
              "       1, 1, 1, 1, 1, 1, 1, 1, 0, 1, 1, 0, 1, 1, 1, 1, 0, 0, 1, 0, 1, 0,\n",
              "       0, 0, 1, 1, 1, 0, 1, 0, 1, 0, 1, 1, 0, 0, 1, 1, 0, 1, 0, 1, 0, 0,\n",
              "       0, 0, 1, 1, 1, 1, 0, 0, 1, 1, 1, 1, 0, 1, 0, 1, 0, 0, 0, 0, 1, 1,\n",
              "       0, 1, 0, 1, 1, 1, 0, 1, 1, 1, 1, 1, 0, 1, 1, 1, 0, 1, 1, 1, 1, 0,\n",
              "       1, 0, 0, 1, 0, 1, 1, 1, 1, 1, 1, 1, 1, 1, 1, 1, 1, 1, 0, 0, 1, 0,\n",
              "       1, 1, 1, 1, 1, 0, 1, 0, 1, 1, 0, 0, 1, 1, 1, 0, 0, 1, 1, 1, 1, 0,\n",
              "       0, 0, 1, 1, 1, 1, 1, 0, 0, 1, 0, 1, 1, 0, 1, 1, 0, 0, 0, 1, 1, 1,\n",
              "       1, 0, 1, 1, 1, 0, 0, 0, 0, 0, 1, 0, 1, 1, 1, 0, 1, 1, 0, 0, 1, 1,\n",
              "       1, 1, 1, 0, 1, 1, 0, 0, 0, 1, 0, 1, 0, 1, 1, 1, 1, 1, 0, 0, 1, 0,\n",
              "       0, 0, 0, 1, 0, 1, 1, 0, 0, 1, 0, 0, 0, 1, 1, 0, 0, 1, 0, 1, 1, 0,\n",
              "       1, 0, 0, 1, 0, 1, 1, 0, 0, 1, 0, 1, 0, 1, 0, 1, 0, 0, 0, 0, 1, 1,\n",
              "       1, 0, 0, 0, 0, 0, 1, 1, 0, 0, 0, 0, 1, 1, 1, 1, 1, 0, 1, 0, 0, 0,\n",
              "       1, 1, 1, 1, 0, 1, 0, 1, 0, 0, 0, 1, 1, 0, 1, 0, 1, 0, 0, 0, 0, 0,\n",
              "       0, 1, 1, 0, 1, 1, 0, 0, 0, 1, 0, 1, 1, 0, 1, 0, 0, 0, 1, 1, 1, 1,\n",
              "       1, 0, 1, 0, 0, 0, 1, 0, 1, 1, 1, 0, 0, 1, 0, 0, 0, 0, 0, 1, 1, 1,\n",
              "       1, 1, 1, 0, 0, 0, 0, 1, 0, 0, 1, 0, 0, 0, 0, 1, 1, 1, 1, 0, 1, 0,\n",
              "       0, 1, 1, 1, 1, 1, 1, 1, 0, 1, 0, 1, 1, 1, 1, 1, 0, 1, 1, 1, 0, 0,\n",
              "       1, 1, 0, 1, 1, 1, 0, 1, 1, 1])"
            ]
          },
          "metadata": {},
          "execution_count": 12
        }
      ]
    },
    {
      "cell_type": "code",
      "source": [
        "#Vectorization\n",
        "# Count vectorization- This creates a document-term matrix where the entry of each cell will be a count of\n",
        "# the number of that word in that document\n",
        "# TfIdf vectorization\n",
        "# Tfidfvectorizer- term frequency inverse document frequency\n",
        "\n",
        "\n",
        "from collections import Counter\n",
        "Counter(label_train)"
      ],
      "metadata": {
        "colab": {
          "base_uri": "https://localhost:8080/"
        },
        "id": "QkRRCMU5uS4D",
        "outputId": "4f9d7bab-b0ef-4e33-d604-2fd7f3f944cf"
      },
      "execution_count": 13,
      "outputs": [
        {
          "output_type": "execute_result",
          "data": {
            "text/plain": [
              "Counter({1: 593, 0: 480})"
            ]
          },
          "metadata": {},
          "execution_count": 13
        }
      ]
    },
    {
      "cell_type": "code",
      "source": [
        "tfidf_vectorizer= TfidfVectorizer(stop_words='english',max_features=None)\n",
        "term_docs_train= tfidf_vectorizer.fit_transform(cleaned_train)\n",
        "term_docs_test=tfidf_vectorizer.transform(cleaned_test)"
      ],
      "metadata": {
        "id": "ktis9HRmuZC_"
      },
      "execution_count": 14,
      "outputs": []
    },
    {
      "cell_type": "markdown",
      "source": [
        "### BUILDING SVM MODEL"
      ],
      "metadata": {
        "id": "tlgqm9I6iSGk"
      }
    },
    {
      "cell_type": "code",
      "source": [
        "#importing numpy ,SVC ,GridSearchCV to build svm model\n",
        "import numpy as np\n",
        "from sklearn.svm import SVC\n",
        "from sklearn.metrics import accuracy_score\n",
        "from sklearn.model_selection import GridSearchCV"
      ],
      "metadata": {
        "id": "KKHt3C0PuZFt"
      },
      "execution_count": 15,
      "outputs": []
    },
    {
      "cell_type": "code",
      "source": [
        "#Linear SVM model\n",
        "svm=SVC(kernel='linear', random_state=42)\n",
        "svm.fit(term_docs_train, label_train)\n",
        "accuracy= svm.score(term_docs_test, label_test)\n",
        "print(\"The accuracy of Binary classification of Newsgroups is : {0:.1f}%\".format(accuracy*100))"
      ],
      "metadata": {
        "colab": {
          "base_uri": "https://localhost:8080/"
        },
        "id": "vBFGVphpj1kQ",
        "outputId": "656363e3-4fc2-49f6-98c0-8cb41ea08e7c"
      },
      "execution_count": 16,
      "outputs": [
        {
          "output_type": "stream",
          "name": "stdout",
          "text": [
            "The accuracy of Binary classification of Newsgroups is : 98.0%\n"
          ]
        }
      ]
    },
    {
      "cell_type": "code",
      "source": [
        "#Trying out best estimator amoung all permutations and combinations\n",
        "depth_range = np.linspace(1, 10, num=10)\n",
        "svc = SVC(random_state=42)\n",
        "parameters = {'kernel':('linear', 'poly', 'rbf'), 'C':depth_range, 'gamma': ('scale', 'auto')}\n",
        "clf = GridSearchCV(estimator=svc, param_grid=parameters, cv=10, n_jobs=-1, scoring='roc_auc')\n",
        "clf.fit(term_docs_train, label_train)"
      ],
      "metadata": {
        "colab": {
          "base_uri": "https://localhost:8080/"
        },
        "id": "9nSGhlm3jtQv",
        "outputId": "f5304604-a741-40e1-afa7-6bedced03d15"
      },
      "execution_count": 17,
      "outputs": [
        {
          "output_type": "execute_result",
          "data": {
            "text/plain": [
              "GridSearchCV(cv=10, estimator=SVC(random_state=42), n_jobs=-1,\n",
              "             param_grid={'C': array([ 1.,  2.,  3.,  4.,  5.,  6.,  7.,  8.,  9., 10.]),\n",
              "                         'gamma': ('scale', 'auto'),\n",
              "                         'kernel': ('linear', 'poly', 'rbf')},\n",
              "             scoring='roc_auc')"
            ]
          },
          "metadata": {},
          "execution_count": 17
        }
      ]
    },
    {
      "cell_type": "code",
      "source": [
        "print(\"The best estimator across ALL searched params:\\n\", clf.best_estimator_)\n",
        "print(\"The best score across ALL searched params:\\n\", clf.best_score_)\n",
        "print(\"The best parameters across ALL searched params:\\n\", clf.best_params_)"
      ],
      "metadata": {
        "colab": {
          "base_uri": "https://localhost:8080/"
        },
        "id": "lc6f_nw2lZPC",
        "outputId": "359b86f3-e241-44ea-c8aa-a3bc18db3122"
      },
      "execution_count": 18,
      "outputs": [
        {
          "output_type": "stream",
          "name": "stdout",
          "text": [
            "The best estimator across ALL searched params:\n",
            " SVC(kernel='linear', random_state=42)\n",
            "The best score across ALL searched params:\n",
            " 0.9997887241054613\n",
            "The best parameters across ALL searched params:\n",
            " {'C': 1.0, 'gamma': 'scale', 'kernel': 'linear'}\n"
          ]
        }
      ]
    },
    {
      "cell_type": "code",
      "source": [
        "svc.set_params(**clf.best_params_)"
      ],
      "metadata": {
        "colab": {
          "base_uri": "https://localhost:8080/"
        },
        "id": "UwrQGnhlmgSi",
        "outputId": "11c55b39-2c5f-4601-e6fc-32bfd30f051c"
      },
      "execution_count": 19,
      "outputs": [
        {
          "output_type": "execute_result",
          "data": {
            "text/plain": [
              "SVC(kernel='linear', random_state=42)"
            ]
          },
          "metadata": {},
          "execution_count": 19
        }
      ]
    },
    {
      "cell_type": "code",
      "source": [
        "svc.fit(term_docs_train, label_train)"
      ],
      "metadata": {
        "colab": {
          "base_uri": "https://localhost:8080/"
        },
        "id": "Jj8ClWMhmlwM",
        "outputId": "bd055559-0e1a-4c08-b6c4-130eacfd8246"
      },
      "execution_count": 20,
      "outputs": [
        {
          "output_type": "execute_result",
          "data": {
            "text/plain": [
              "SVC(kernel='linear', random_state=42)"
            ]
          },
          "metadata": {},
          "execution_count": 20
        }
      ]
    },
    {
      "cell_type": "code",
      "source": [
        "label_pred = svc.predict(term_docs_test)\n",
        "label_pred"
      ],
      "metadata": {
        "colab": {
          "base_uri": "https://localhost:8080/"
        },
        "id": "5akSdNm1mn4Y",
        "outputId": "55bd43b4-8dd3-4c74-b390-32ea137e9807"
      },
      "execution_count": 21,
      "outputs": [
        {
          "output_type": "execute_result",
          "data": {
            "text/plain": [
              "array([0, 0, 0, 1, 0, 0, 1, 0, 1, 0, 0, 0, 0, 1, 0, 0, 1, 1, 1, 0, 0, 1,\n",
              "       1, 1, 1, 1, 1, 1, 0, 0, 0, 1, 1, 0, 0, 0, 1, 0, 1, 1, 0, 0, 1, 1,\n",
              "       1, 0, 1, 1, 0, 1, 1, 0, 1, 0, 1, 1, 1, 1, 1, 0, 1, 1, 1, 0, 1, 0,\n",
              "       1, 1, 0, 1, 1, 1, 1, 1, 0, 0, 0, 1, 1, 1, 1, 1, 0, 1, 1, 1, 0, 0,\n",
              "       0, 0, 1, 1, 0, 1, 1, 0, 0, 1, 0, 0, 1, 1, 0, 1, 1, 1, 0, 0, 1, 1,\n",
              "       0, 0, 0, 1, 1, 0, 1, 0, 1, 1, 0, 0, 0, 0, 1, 1, 1, 1, 1, 0, 1, 1,\n",
              "       0, 1, 0, 1, 0, 0, 1, 1, 0, 0, 0, 1, 0, 0, 1, 0, 0, 0, 1, 0, 0, 1,\n",
              "       1, 0, 1, 1, 0, 0, 1, 1, 1, 1, 0, 0, 0, 0, 0, 1, 1, 0, 0, 1, 1, 1,\n",
              "       1, 1, 1, 1, 1, 1, 0, 1, 1, 0, 1, 1, 0, 0, 1, 1, 1, 0, 1, 1, 0, 0,\n",
              "       1, 1, 1, 1, 0, 0, 1, 0, 1, 1, 0, 1, 1, 1, 0, 0, 0, 1, 0, 1, 1, 1,\n",
              "       1, 0, 1, 0, 0, 1, 1, 0, 0, 0, 0, 0, 0, 1, 1, 1, 1, 0, 1, 0, 1, 0,\n",
              "       0, 1, 1, 0, 1, 1, 1, 1, 1, 1, 0, 1, 1, 0, 1, 0, 0, 1, 0, 0, 0, 1,\n",
              "       0, 0, 1, 1, 1, 1, 0, 1, 1, 1, 0, 1, 1, 0, 0, 1, 1, 0, 0, 0, 1, 1,\n",
              "       0, 0, 0, 1, 1, 1, 0, 1, 1, 0, 0, 1, 0, 1, 0, 0, 0, 1, 1, 1, 1, 1,\n",
              "       1, 0, 1, 0, 1, 1, 0, 0, 1, 0, 1, 0, 1, 1, 1, 0, 0, 1, 0, 0, 0, 0,\n",
              "       1, 1, 1, 1, 1, 1, 1, 1, 0, 1, 1, 0, 1, 1, 1, 1, 0, 0, 1, 0, 1, 0,\n",
              "       0, 0, 1, 1, 1, 0, 1, 0, 1, 0, 1, 1, 0, 0, 1, 1, 0, 1, 0, 1, 0, 0,\n",
              "       0, 0, 1, 1, 1, 1, 1, 0, 1, 1, 1, 1, 0, 1, 0, 1, 0, 0, 0, 0, 1, 1,\n",
              "       0, 1, 0, 1, 1, 1, 0, 1, 1, 1, 0, 1, 0, 1, 1, 1, 0, 1, 1, 1, 1, 0,\n",
              "       1, 0, 0, 1, 0, 1, 1, 1, 1, 1, 1, 1, 1, 1, 1, 1, 1, 1, 0, 0, 1, 0,\n",
              "       1, 1, 1, 1, 1, 0, 1, 0, 1, 1, 0, 0, 1, 1, 0, 0, 0, 1, 1, 1, 1, 0,\n",
              "       0, 0, 1, 1, 1, 1, 1, 0, 0, 1, 0, 1, 1, 0, 1, 1, 0, 1, 0, 1, 1, 1,\n",
              "       1, 0, 1, 1, 1, 0, 0, 0, 0, 0, 1, 0, 1, 1, 1, 0, 1, 1, 0, 0, 1, 1,\n",
              "       1, 1, 1, 0, 1, 1, 0, 0, 0, 1, 0, 1, 0, 1, 1, 1, 1, 1, 0, 0, 1, 0,\n",
              "       0, 0, 0, 1, 0, 1, 1, 0, 0, 1, 0, 0, 0, 1, 1, 0, 0, 1, 0, 1, 1, 0,\n",
              "       1, 0, 1, 1, 0, 1, 1, 0, 0, 1, 0, 1, 0, 1, 0, 1, 0, 0, 0, 0, 1, 1,\n",
              "       1, 0, 0, 0, 0, 0, 1, 1, 0, 0, 0, 0, 1, 1, 1, 1, 1, 0, 1, 0, 0, 0,\n",
              "       1, 1, 1, 1, 0, 1, 0, 1, 0, 0, 0, 1, 1, 0, 1, 0, 1, 0, 0, 0, 0, 0,\n",
              "       0, 1, 1, 0, 1, 1, 0, 0, 0, 1, 0, 1, 1, 0, 1, 0, 0, 0, 1, 1, 1, 1,\n",
              "       1, 0, 1, 0, 0, 0, 1, 0, 1, 1, 1, 0, 0, 1, 0, 0, 0, 0, 0, 1, 1, 1,\n",
              "       1, 1, 1, 0, 0, 0, 0, 1, 0, 0, 1, 0, 0, 0, 0, 1, 1, 1, 1, 0, 1, 0,\n",
              "       0, 1, 1, 1, 1, 1, 1, 1, 0, 1, 0, 1, 1, 1, 1, 1, 0, 1, 1, 1, 0, 0,\n",
              "       1, 1, 0, 1, 1, 1, 0, 1, 1, 1])"
            ]
          },
          "metadata": {},
          "execution_count": 21
        }
      ]
    },
    {
      "cell_type": "code",
      "source": [
        "acc_score=accuracy_score(label_test, label_pred)\n",
        "acc_score"
      ],
      "metadata": {
        "colab": {
          "base_uri": "https://localhost:8080/"
        },
        "id": "40jhS5Tfnexe",
        "outputId": "0c8a3cde-7360-4c30-d2d2-57fe2c2c585a"
      },
      "execution_count": 22,
      "outputs": [
        {
          "output_type": "execute_result",
          "data": {
            "text/plain": [
              "0.9803921568627451"
            ]
          },
          "metadata": {},
          "execution_count": 22
        }
      ]
    },
    {
      "cell_type": "code",
      "source": [
        "print(\"The accuracy of Binary classification of Newsgroups is : {0:.1f}%\".format(acc_score*100))"
      ],
      "metadata": {
        "colab": {
          "base_uri": "https://localhost:8080/"
        },
        "id": "tEpQVw_5ne0Z",
        "outputId": "88babd4d-6622-4035-f8f6-b4b59b5c4da3"
      },
      "execution_count": 23,
      "outputs": [
        {
          "output_type": "stream",
          "name": "stdout",
          "text": [
            "The accuracy of Binary classification of Newsgroups is : 98.0%\n"
          ]
        }
      ]
    },
    {
      "cell_type": "markdown",
      "source": [
        "#### Accuracy measures and Confusion matrix"
      ],
      "metadata": {
        "id": "4ty_MmcAoK2t"
      }
    },
    {
      "cell_type": "code",
      "source": [
        "from sklearn.metrics import classification_report\n",
        "prediction= svm.predict(term_docs_test)\n",
        "report= classification_report(label_test, prediction)\n",
        "print(report)"
      ],
      "metadata": {
        "colab": {
          "base_uri": "https://localhost:8080/"
        },
        "id": "mnc7i2NYne25",
        "outputId": "dfb133e2-73ce-4c42-ec4c-0b5eacda4327"
      },
      "execution_count": 24,
      "outputs": [
        {
          "output_type": "stream",
          "name": "stdout",
          "text": [
            "              precision    recall  f1-score   support\n",
            "\n",
            "           0       0.99      0.97      0.98       319\n",
            "           1       0.98      0.99      0.98       395\n",
            "\n",
            "    accuracy                           0.98       714\n",
            "   macro avg       0.98      0.98      0.98       714\n",
            "weighted avg       0.98      0.98      0.98       714\n",
            "\n"
          ]
        }
      ]
    },
    {
      "cell_type": "code",
      "source": [
        "from sklearn.metrics import confusion_matrix\n",
        "from sklearn import metrics\n",
        "confusion_matrix=confusion_matrix(label_test,label_pred)\n",
        "confusion_matrix"
      ],
      "metadata": {
        "colab": {
          "base_uri": "https://localhost:8080/"
        },
        "id": "s2UJGn3xomzb",
        "outputId": "50e430c4-8dd2-4d96-fe65-91d6a82889b7"
      },
      "execution_count": 25,
      "outputs": [
        {
          "output_type": "execute_result",
          "data": {
            "text/plain": [
              "array([[309,  10],\n",
              "       [  4, 391]])"
            ]
          },
          "metadata": {},
          "execution_count": 25
        }
      ]
    },
    {
      "cell_type": "code",
      "source": [
        "import seaborn as sns\n",
        "sns.heatmap(confusion_matrix, annot=True)"
      ],
      "metadata": {
        "colab": {
          "base_uri": "https://localhost:8080/",
          "height": 282
        },
        "id": "7bvkGMgRmmr-",
        "outputId": "d45458cc-5be3-453d-ade7-92ed42c98bda"
      },
      "execution_count": 26,
      "outputs": [
        {
          "output_type": "execute_result",
          "data": {
            "text/plain": [
              "<matplotlib.axes._subplots.AxesSubplot at 0x7f7ccaa5e9d0>"
            ]
          },
          "metadata": {},
          "execution_count": 26
        },
        {
          "output_type": "display_data",
          "data": {
            "text/plain": [
              "<Figure size 432x288 with 2 Axes>"
            ],
            "image/png": "[encoded data removed]"
          },
          "metadata": {
            "needs_background": "light"
          }
        }
      ]
    },
    {
      "cell_type": "code",
      "source": [],
      "metadata": {
        "id": "JfJ3VyH6mmuu"
      },
      "execution_count": null,
      "outputs": []
    },
    {
      "cell_type": "code",
      "source": [],
      "metadata": {
        "id": "pmxx0SO-mmxU"
      },
      "execution_count": null,
      "outputs": []
    },
    {
      "cell_type": "markdown",
      "source": [
        "## MULTICLASS CLASSIFICATION"
      ],
      "metadata": {
        "id": "RNfrrQ3UoW6O"
      }
    },
    {
      "cell_type": "code",
      "source": [
        "# Multiclass classification using all 20 target values.\n",
        "\n",
        "categories=[\n",
        " 'alt.atheism',\n",
        " 'comp.graphics',\n",
        " 'comp.os.ms-windows.misc',\n",
        " 'comp.sys.ibm.pc.hardware',\n",
        " 'comp.sys.mac.hardware',\n",
        " 'comp.windows.x',\n",
        " 'misc.forsale',\n",
        " 'rec.autos',\n",
        " 'rec.motorcycles',\n",
        " 'rec.sport.baseball',\n",
        " 'rec.sport.hockey',\n",
        " 'sci.crypt',\n",
        " 'sci.electronics',\n",
        " 'sci.med',\n",
        " 'sci.space',\n",
        " 'soc.religion.christian',\n",
        " 'talk.politics.guns',\n",
        " 'talk.politics.mideast',\n",
        " 'talk.politics.misc',\n",
        " 'talk.religion.misc'\n",
        "]"
      ],
      "metadata": {
        "id": "RnNdag9SuS7q"
      },
      "execution_count": 27,
      "outputs": []
    },
    {
      "cell_type": "code",
      "source": [
        "#splitting dataset\n",
        "data_train = fetch_20newsgroups(subset='train', categories= categories, random_state=42)\n",
        "data_test = fetch_20newsgroups(subset='test',categories= categories, random_state=42)"
      ],
      "metadata": {
        "id": "7krApX-WiPA2"
      },
      "execution_count": 28,
      "outputs": []
    },
    {
      "cell_type": "code",
      "source": [
        "from pprint import pprint\n",
        "pprint(list(data_train.target_names))"
      ],
      "metadata": {
        "colab": {
          "base_uri": "https://localhost:8080/"
        },
        "id": "7h2Ol8kXi0DL",
        "outputId": "3c66cf3c-e1e4-43e9-81d3-4a9fd7d5d618"
      },
      "execution_count": 29,
      "outputs": [
        {
          "output_type": "stream",
          "name": "stdout",
          "text": [
            "['alt.atheism',\n",
            " 'comp.graphics',\n",
            " 'comp.os.ms-windows.misc',\n",
            " 'comp.sys.ibm.pc.hardware',\n",
            " 'comp.sys.mac.hardware',\n",
            " 'comp.windows.x',\n",
            " 'misc.forsale',\n",
            " 'rec.autos',\n",
            " 'rec.motorcycles',\n",
            " 'rec.sport.baseball',\n",
            " 'rec.sport.hockey',\n",
            " 'sci.crypt',\n",
            " 'sci.electronics',\n",
            " 'sci.med',\n",
            " 'sci.space',\n",
            " 'soc.religion.christian',\n",
            " 'talk.politics.guns',\n",
            " 'talk.politics.mideast',\n",
            " 'talk.politics.misc',\n",
            " 'talk.religion.misc']\n"
          ]
        }
      ]
    },
    {
      "cell_type": "code",
      "source": [
        "#labeling the train and test data\n",
        "train_label=data_train.target\n",
        "test_label=data_test.target"
      ],
      "metadata": {
        "id": "HLzM8frXjVDB"
      },
      "execution_count": 30,
      "outputs": []
    },
    {
      "cell_type": "code",
      "source": [
        "train_label"
      ],
      "metadata": {
        "colab": {
          "base_uri": "https://localhost:8080/"
        },
        "id": "1Ti79UlsjVF1",
        "outputId": "6fb097df-585a-410f-f8a4-0f5a931f8b17"
      },
      "execution_count": 31,
      "outputs": [
        {
          "output_type": "execute_result",
          "data": {
            "text/plain": [
              "array([7, 4, 4, ..., 3, 1, 8])"
            ]
          },
          "metadata": {},
          "execution_count": 31
        }
      ]
    },
    {
      "cell_type": "code",
      "source": [
        "test_label"
      ],
      "metadata": {
        "colab": {
          "base_uri": "https://localhost:8080/"
        },
        "id": "1rjB_50ZjVIo",
        "outputId": "48f2b173-7194-43f1-a06d-e9fe717e4f2e"
      },
      "execution_count": 32,
      "outputs": [
        {
          "output_type": "execute_result",
          "data": {
            "text/plain": [
              "array([ 7,  5,  0, ...,  9,  6, 15])"
            ]
          },
          "metadata": {},
          "execution_count": 32
        }
      ]
    },
    {
      "cell_type": "code",
      "source": [
        "np.unique(test_label)"
      ],
      "metadata": {
        "colab": {
          "base_uri": "https://localhost:8080/"
        },
        "id": "NAJujimVjVLO",
        "outputId": "a4c7e1b3-d0f9-44ea-c220-3095f2267fe0"
      },
      "execution_count": 33,
      "outputs": [
        {
          "output_type": "execute_result",
          "data": {
            "text/plain": [
              "array([ 0,  1,  2,  3,  4,  5,  6,  7,  8,  9, 10, 11, 12, 13, 14, 15, 16,\n",
              "       17, 18, 19])"
            ]
          },
          "metadata": {},
          "execution_count": 33
        }
      ]
    },
    {
      "cell_type": "code",
      "source": [
        "np.unique(train_label)"
      ],
      "metadata": {
        "colab": {
          "base_uri": "https://localhost:8080/"
        },
        "id": "KBlNxlfNjVNh",
        "outputId": "d1fee77f-c740-4cc9-962e-32f5f4caf2e2"
      },
      "execution_count": 34,
      "outputs": [
        {
          "output_type": "execute_result",
          "data": {
            "text/plain": [
              "array([ 0,  1,  2,  3,  4,  5,  6,  7,  8,  9, 10, 11, 12, 13, 14, 15, 16,\n",
              "       17, 18, 19])"
            ]
          },
          "metadata": {},
          "execution_count": 34
        }
      ]
    },
    {
      "cell_type": "markdown",
      "source": [
        "#### Preprocessing of dataset.Removing stopwords,punctuations Tokenization , Stemming ,Lemmatization,cleaning of dataset.\n"
      ],
      "metadata": {
        "id": "TIQ1zztVozp2"
      }
    },
    {
      "cell_type": "code",
      "source": [
        "#function for preprocessing\n",
        "from collections import defaultdict\n",
        "from nltk.stem import WordNetLemmatizer\n",
        "from nltk.corpus import names\n",
        "\n",
        "all_names = names.words()\n",
        "WNL = WordNetLemmatizer()\n",
        "def clean(data):\n",
        "    cleaned = defaultdict(list)\n",
        "    count = 0\n",
        "    for group in data:\n",
        "        for words in group.split():\n",
        "            if words.isalpha() and words not in all_names:\n",
        "                cleaned[count].append(WNL.lemmatize(words.lower()))\n",
        "        cleaned[count] = ' '.join(cleaned[count])\n",
        "        count +=1 \n",
        "    return(list(cleaned.values()))"
      ],
      "metadata": {
        "id": "ITH6CuJclxnL"
      },
      "execution_count": 35,
      "outputs": []
    },
    {
      "cell_type": "code",
      "source": [
        "x_train = clean(data_train.data)\n",
        "x_test = clean(data_test.data)"
      ],
      "metadata": {
        "id": "T8HEqJYelxqE"
      },
      "execution_count": 36,
      "outputs": []
    },
    {
      "cell_type": "code",
      "source": [
        "len(x_train)"
      ],
      "metadata": {
        "colab": {
          "base_uri": "https://localhost:8080/"
        },
        "id": "GVK_3kq5tapq",
        "outputId": "a77df890-43b5-4b84-9ff1-a22a8f02a75f"
      },
      "execution_count": 37,
      "outputs": [
        {
          "output_type": "execute_result",
          "data": {
            "text/plain": [
              "11314"
            ]
          },
          "metadata": {},
          "execution_count": 37
        }
      ]
    },
    {
      "cell_type": "code",
      "source": [
        "len(x_test)"
      ],
      "metadata": {
        "colab": {
          "base_uri": "https://localhost:8080/"
        },
        "id": "-FyIk3ZBtfqz",
        "outputId": "a0d408ec-b114-445a-a60c-a97d12fa7c45"
      },
      "execution_count": 38,
      "outputs": [
        {
          "output_type": "execute_result",
          "data": {
            "text/plain": [
              "7532"
            ]
          },
          "metadata": {},
          "execution_count": 38
        }
      ]
    },
    {
      "cell_type": "code",
      "source": [
        "#Vectorization of dataset\n",
        "from sklearn.feature_extraction.text import TfidfVectorizer\n",
        "\n",
        "tf = TfidfVectorizer(stop_words='english', max_features=None )\n",
        "train_data = tf.fit_transform(x_train)\n",
        "test_data = tf.transform(x_test)\n",
        "train_data.shape, test_data.shape"
      ],
      "metadata": {
        "colab": {
          "base_uri": "https://localhost:8080/"
        },
        "id": "pjY3bOoPlxtr",
        "outputId": "ddbb4add-4e09-439c-cf36-13cc6ff7c676"
      },
      "execution_count": 39,
      "outputs": [
        {
          "output_type": "execute_result",
          "data": {
            "text/plain": [
              "((11314, 46583), (7532, 46583))"
            ]
          },
          "metadata": {},
          "execution_count": 39
        }
      ]
    },
    {
      "cell_type": "markdown",
      "source": [
        "#### Building SVM model."
      ],
      "metadata": {
        "id": "yMuWR4jLvX7-"
      }
    },
    {
      "cell_type": "code",
      "source": [
        "from sklearn.svm import SVC\n",
        "from sklearn.metrics import accuracy_score\n",
        "from sklearn.model_selection import GridSearchCV\n",
        "from sklearn.model_selection import train_test_split"
      ],
      "metadata": {
        "id": "wxDin535lx1f"
      },
      "execution_count": 40,
      "outputs": []
    },
    {
      "cell_type": "markdown",
      "source": [
        "#### Linear SVM"
      ],
      "metadata": {
        "id": "if-kOFiPL7Da"
      }
    },
    {
      "cell_type": "code",
      "source": [
        "svm=SVC(kernel='linear', random_state=42)\n",
        "svm.fit(train_data, train_label)\n",
        "accuracy= svm.score(test_data,test_label)\n",
        "print(\"The accuracy of 5-class classification is : {0:.1f}%\".format(accuracy*100))"
      ],
      "metadata": {
        "colab": {
          "base_uri": "https://localhost:8080/"
        },
        "id": "rRgJHvAelxyI",
        "outputId": "ab19d44c-3209-4ed3-9e9e-daea1b3c690d"
      },
      "execution_count": 41,
      "outputs": [
        {
          "output_type": "stream",
          "name": "stdout",
          "text": [
            "The accuracy of 5-class classification is : 77.9%\n"
          ]
        }
      ]
    },
    {
      "cell_type": "code",
      "source": [
        "pred_label = svm.predict(test_data)\n",
        "pred_label"
      ],
      "metadata": {
        "id": "-QbERlhUxRKX",
        "colab": {
          "base_uri": "https://localhost:8080/"
        },
        "outputId": "3a94508a-be4a-4a90-f2e0-2b0f1653f12b"
      },
      "execution_count": 50,
      "outputs": [
        {
          "output_type": "execute_result",
          "data": {
            "text/plain": [
              "array([ 1,  6,  0, ...,  9, 12, 15])"
            ]
          },
          "metadata": {},
          "execution_count": 50
        }
      ]
    },
    {
      "cell_type": "code",
      "source": [
        "accuracy_score(test_label, pred_label)"
      ],
      "metadata": {
        "id": "Wvnqe2MFxRNe",
        "colab": {
          "base_uri": "https://localhost:8080/"
        },
        "outputId": "49a4dbc2-93ba-45cf-fa04-180564a7d60d"
      },
      "execution_count": 51,
      "outputs": [
        {
          "output_type": "execute_result",
          "data": {
            "text/plain": [
              "0.7793414763674986"
            ]
          },
          "metadata": {},
          "execution_count": 51
        }
      ]
    },
    {
      "cell_type": "code",
      "source": [
        "accur_score=accuracy_score(test_label, pred_label)\n",
        "print(\"The accuracy of MultiClass classification of Newsgroups is : {0:.1f}%\".format(accur_score*100))"
      ],
      "metadata": {
        "colab": {
          "base_uri": "https://localhost:8080/"
        },
        "id": "NbdtdpU5TdAK",
        "outputId": "a9e1f1a6-c4f8-416f-c82b-79d4d4e5ff78"
      },
      "execution_count": 60,
      "outputs": [
        {
          "output_type": "stream",
          "name": "stdout",
          "text": [
            "The accuracy of MultiClass classification of Newsgroups is : 77.9%\n"
          ]
        }
      ]
    },
    {
      "cell_type": "markdown",
      "source": [
        "#### Accuracy measures and Confusion matrix "
      ],
      "metadata": {
        "id": "4TW2Da0J4FUx"
      }
    },
    {
      "cell_type": "code",
      "source": [
        "from sklearn.metrics import classification_report\n",
        "prediction= svm.predict(test_data)\n",
        "report= classification_report(test_label, prediction)\n",
        "print(report)"
      ],
      "metadata": {
        "id": "x7B4t9n1xRUx",
        "colab": {
          "base_uri": "https://localhost:8080/"
        },
        "outputId": "a730d9a3-41fa-48e3-fc14-5fddd8780e08"
      },
      "execution_count": 52,
      "outputs": [
        {
          "output_type": "stream",
          "name": "stdout",
          "text": [
            "              precision    recall  f1-score   support\n",
            "\n",
            "           0       0.70      0.68      0.69       319\n",
            "           1       0.64      0.78      0.70       389\n",
            "           2       0.71      0.66      0.69       394\n",
            "           3       0.64      0.72      0.68       392\n",
            "           4       0.79      0.73      0.76       385\n",
            "           5       0.77      0.69      0.72       395\n",
            "           6       0.68      0.83      0.75       390\n",
            "           7       0.85      0.84      0.84       396\n",
            "           8       0.92      0.88      0.90       398\n",
            "           9       0.89      0.89      0.89       397\n",
            "          10       0.96      0.91      0.93       399\n",
            "          11       0.95      0.85      0.90       396\n",
            "          12       0.70      0.73      0.71       393\n",
            "          13       0.83      0.86      0.84       396\n",
            "          14       0.93      0.86      0.89       394\n",
            "          15       0.71      0.82      0.76       398\n",
            "          16       0.69      0.85      0.76       364\n",
            "          17       0.97      0.77      0.86       376\n",
            "          18       0.73      0.55      0.63       310\n",
            "          19       0.60      0.50      0.55       251\n",
            "\n",
            "    accuracy                           0.78      7532\n",
            "   macro avg       0.78      0.77      0.77      7532\n",
            "weighted avg       0.79      0.78      0.78      7532\n",
            "\n"
          ]
        }
      ]
    },
    {
      "cell_type": "code",
      "source": [
        "from sklearn.metrics import confusion_matrix\n",
        "from sklearn import metrics\n",
        "cof=confusion_matrix(test_label,pred_label)\n",
        "cof"
      ],
      "metadata": {
        "id": "GrMCkhMuxRYJ",
        "colab": {
          "base_uri": "https://localhost:8080/"
        },
        "outputId": "1f46fbea-12e3-480d-af64-fcf200cb0ab7"
      },
      "execution_count": 53,
      "outputs": [
        {
          "output_type": "execute_result",
          "data": {
            "text/plain": [
              "array([[218,   1,   1,   1,   0,   0,   3,   2,   2,   2,   0,   1,   1,\n",
              "          8,   3,  38,   2,   3,   4,  29],\n",
              "       [  4, 305,  11,  11,   6,  22,   7,   1,   0,   2,   1,   2,  11,\n",
              "          2,   2,   1,   0,   0,   1,   0],\n",
              "       [  1,  28, 262,  34,  11,  27,   8,   1,   2,   1,   0,   0,   5,\n",
              "          4,   1,   2,   0,   0,   5,   2],\n",
              "       [  0,  13,  28, 282,  23,   4,  17,   1,   2,   1,   0,   0,  20,\n",
              "          1,   0,   0,   0,   0,   0,   0],\n",
              "       [  2,   8,  14,  40, 281,   3,  12,   2,   0,   0,   1,   1,  19,\n",
              "          1,   0,   0,   0,   0,   1,   0],\n",
              "       [  0,  66,  35,   6,   3, 271,   4,   0,   0,   0,   0,   0,   6,\n",
              "          1,   3,   0,   0,   0,   0,   0],\n",
              "       [  0,   4,   7,  23,  10,   0, 322,   7,   1,   1,   0,   1,   8,\n",
              "          3,   1,   0,   0,   0,   0,   2],\n",
              "       [  0,   6,   1,   1,   1,   1,  16, 331,  13,   2,   0,   0,  15,\n",
              "          3,   0,   0,   1,   0,   2,   3],\n",
              "       [  0,   0,   0,   0,   0,   1,   8,  20, 352,   4,   0,   0,   4,\n",
              "          5,   0,   0,   1,   0,   3,   0],\n",
              "       [  3,   2,   0,   0,   1,   1,  11,   2,   3, 353,  12,   0,   2,\n",
              "          2,   0,   4,   0,   0,   1,   0],\n",
              "       [  1,   2,   0,   0,   1,   3,   3,   1,   0,  12, 365,   0,   1,\n",
              "          0,   1,   6,   2,   0,   1,   0],\n",
              "       [  1,   9,   1,   4,   7,   6,   8,   1,   1,   2,   0, 338,   7,\n",
              "          3,   0,   0,   3,   1,   3,   1],\n",
              "       [  1,  12,  10,  25,  11,   4,  21,   4,   5,   0,   0,   5, 285,\n",
              "          8,   1,   0,   0,   0,   0,   1],\n",
              "       [  5,   4,   0,   3,   0,   1,  10,   4,   1,   2,   3,   0,   8,\n",
              "        342,   1,   8,   1,   0,   2,   1],\n",
              "       [  2,  10,   0,   2,   0,   6,   5,   1,   2,   0,   0,   0,   6,\n",
              "          8, 338,   2,   5,   0,   6,   1],\n",
              "       [ 13,   2,   0,   1,   1,   1,   5,   0,   0,   5,   0,   0,   7,\n",
              "          9,   1, 327,   0,   1,   2,  23],\n",
              "       [  0,   0,   0,   2,   0,   1,   5,   5,   0,   2,   0,   5,   1,\n",
              "          2,   0,   2, 311,   0,  15,  13],\n",
              "       [ 26,   2,   0,   0,   0,   1,   3,   2,   0,   7,   0,   1,   1,\n",
              "          2,   1,  16,   6, 290,  13,   5],\n",
              "       [  7,   1,   0,   2,   0,   1,   2,   2,   0,   0,   0,   1,   1,\n",
              "          7,   5,   2, 103,   1, 171,   4],\n",
              "       [ 29,   3,   0,   1,   0,   0,   3,   1,   0,   1,   0,   1,   0,\n",
              "          3,   4,  54,  18,   2,   5, 126]])"
            ]
          },
          "metadata": {},
          "execution_count": 53
        }
      ]
    },
    {
      "cell_type": "code",
      "source": [
        "import seaborn as sns\n",
        "import matplotlib.pyplot as plt\n",
        "sns.heatmap(cof, annot=True)\n",
        "plt.gcf().set_size_inches(15, 15)"
      ],
      "metadata": {
        "id": "K8a_aJab4GIu",
        "colab": {
          "base_uri": "https://localhost:8080/",
          "height": 863
        },
        "outputId": "81d8c922-1293-4875-fd7a-801bedeeadcb"
      },
      "execution_count": 56,
      "outputs": [
        {
          "output_type": "display_data",
          "data": {
            "text/plain": [
              "<Figure size 1080x1080 with 2 Axes>"
            ],
            "image/png": "[encoded data removed]"
          },
          "metadata": {
            "needs_background": "light"
          }
        }
      ]
    },
    {
      "cell_type": "markdown",
      "source": [
        "#### The accuracy of Binary classification of Newsgroups is :98.0%\n",
        "#### The accuracy of MultiClass(for all target values) classification of Newsgroups is : 77.9%."
      ],
      "metadata": {
        "id": "L3yu2EewU4Sc"
      }
    },
    {
      "cell_type": "code",
      "source": [],
      "metadata": {
        "id": "T1Qye1u3SUxy"
      },
      "execution_count": null,
      "outputs": []
    },
    {
      "cell_type": "code",
      "source": [],
      "metadata": {
        "id": "YoOYY2bFQsK3"
      },
      "execution_count": null,
      "outputs": []
    },
    {
      "cell_type": "code",
      "source": [],
      "metadata": {
        "id": "Y6v3GF0gQsPn"
      },
      "execution_count": null,
      "outputs": []
    },
    {
      "cell_type": "code",
      "source": [],
      "metadata": {
        "id": "QdylqIUpQsU8"
      },
      "execution_count": null,
      "outputs": []
    }
  ]
}